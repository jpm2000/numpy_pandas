{
 "cells": [
  {
   "cell_type": "code",
   "execution_count": 1,
   "metadata": {},
   "outputs": [],
   "source": [
    "import pandas as pd\n",
    "import numpy as np"
   ]
  },
  {
   "cell_type": "code",
   "execution_count": 5,
   "metadata": {},
   "outputs": [],
   "source": [
    "tech_port = pd.read_csv('/Users/juanmanrique/Documents/numpy_pandas/proyecto/NASA_TechPort.csv', header=0, sep=',')"
   ]
  },
  {
   "cell_type": "code",
   "execution_count": 6,
   "metadata": {},
   "outputs": [
    {
     "data": {
      "text/html": [
       "<div>\n",
       "<style scoped>\n",
       "    .dataframe tbody tr th:only-of-type {\n",
       "        vertical-align: middle;\n",
       "    }\n",
       "\n",
       "    .dataframe tbody tr th {\n",
       "        vertical-align: top;\n",
       "    }\n",
       "\n",
       "    .dataframe thead th {\n",
       "        text-align: right;\n",
       "    }\n",
       "</style>\n",
       "<table border=\"1\" class=\"dataframe\">\n",
       "  <thead>\n",
       "    <tr style=\"text-align: right;\">\n",
       "      <th></th>\n",
       "      <th>TechPort ID</th>\n",
       "      <th>Project Title</th>\n",
       "      <th>Project Description</th>\n",
       "      <th>Responsible NASA Program</th>\n",
       "      <th>Primary Taxonomy</th>\n",
       "      <th>Project Last Updated</th>\n",
       "      <th>Project URL</th>\n",
       "      <th>Project API URL</th>\n",
       "    </tr>\n",
       "  </thead>\n",
       "  <tbody>\n",
       "    <tr>\n",
       "      <th>0</th>\n",
       "      <td>117325</td>\n",
       "      <td>Development of Improved Combustor Scaling Laws...</td>\n",
       "      <td>To improve current engine (1X) performance and...</td>\n",
       "      <td>Advanced Air Vehicles</td>\n",
       "      <td>TX01.3.6 - Ramjet/Scramjet</td>\n",
       "      <td>12/04/2023 09:47:04 PM</td>\n",
       "      <td>Development of Improved Combustor Scaling Laws...</td>\n",
       "      <td>https://techport.nasa.gov/api/projects/117325</td>\n",
       "    </tr>\n",
       "    <tr>\n",
       "      <th>1</th>\n",
       "      <td>117098</td>\n",
       "      <td>Quesst Community Test Planning &amp; Execution</td>\n",
       "      <td>Plan and execute sonic boom tests with the X-5...</td>\n",
       "      <td>Advanced Air Vehicles</td>\n",
       "      <td>TX15.1.4 - Aeroacoustics</td>\n",
       "      <td>12/04/2023 09:34:30 PM</td>\n",
       "      <td>Quesst Community Test Planning &amp; Execution (ht...</td>\n",
       "      <td>https://techport.nasa.gov/api/projects/117098</td>\n",
       "    </tr>\n",
       "    <tr>\n",
       "      <th>2</th>\n",
       "      <td>94884</td>\n",
       "      <td>NASA Platform for Autonomous Systems</td>\n",
       "      <td>Autonomous operations are critical for the suc...</td>\n",
       "      <td>Mars Campaign Office</td>\n",
       "      <td>TX10.3.3 - Goal and Task Negotiation</td>\n",
       "      <td>11/29/2023 07:12:16 PM</td>\n",
       "      <td>NASA Platform for Autonomous Systems (https://...</td>\n",
       "      <td>https://techport.nasa.gov/api/projects/94884</td>\n",
       "    </tr>\n",
       "    <tr>\n",
       "      <th>3</th>\n",
       "      <td>32946</td>\n",
       "      <td>Autonomous Systems and Operations</td>\n",
       "      <td>The AES Autonomous Systems and Operations (ASO...</td>\n",
       "      <td>Mars Campaign Office</td>\n",
       "      <td>TX10.2.2 - Activity and Resource Planning and ...</td>\n",
       "      <td>11/20/2023 07:07:58 PM</td>\n",
       "      <td>Autonomous Systems and Operations (https://tec...</td>\n",
       "      <td>https://techport.nasa.gov/api/projects/32946</td>\n",
       "    </tr>\n",
       "    <tr>\n",
       "      <th>4</th>\n",
       "      <td>14560</td>\n",
       "      <td>Ocean Color Underwater Low Light Advanced Radi...</td>\n",
       "      <td>The OCULLAR activity pairs a miniature and rug...</td>\n",
       "      <td>Center Independent Research &amp; Development: GSF...</td>\n",
       "      <td>TX08.1.1 - Detectors and Focal Planes</td>\n",
       "      <td>11/17/2023 03:57:25 PM</td>\n",
       "      <td>Ocean Color Underwater Low Light Advanced Radi...</td>\n",
       "      <td>https://techport.nasa.gov/api/projects/14560</td>\n",
       "    </tr>\n",
       "  </tbody>\n",
       "</table>\n",
       "</div>"
      ],
      "text/plain": [
       "   TechPort ID                                      Project Title  \\\n",
       "0       117325  Development of Improved Combustor Scaling Laws...   \n",
       "1       117098         Quesst Community Test Planning & Execution   \n",
       "2        94884               NASA Platform for Autonomous Systems   \n",
       "3        32946                  Autonomous Systems and Operations   \n",
       "4        14560  Ocean Color Underwater Low Light Advanced Radi...   \n",
       "\n",
       "                                 Project Description  \\\n",
       "0  To improve current engine (1X) performance and...   \n",
       "1  Plan and execute sonic boom tests with the X-5...   \n",
       "2  Autonomous operations are critical for the suc...   \n",
       "3  The AES Autonomous Systems and Operations (ASO...   \n",
       "4  The OCULLAR activity pairs a miniature and rug...   \n",
       "\n",
       "                            Responsible NASA Program  \\\n",
       "0                              Advanced Air Vehicles   \n",
       "1                              Advanced Air Vehicles   \n",
       "2                               Mars Campaign Office   \n",
       "3                               Mars Campaign Office   \n",
       "4  Center Independent Research & Development: GSF...   \n",
       "\n",
       "                                    Primary Taxonomy    Project Last Updated  \\\n",
       "0                         TX01.3.6 - Ramjet/Scramjet  12/04/2023 09:47:04 PM   \n",
       "1                           TX15.1.4 - Aeroacoustics  12/04/2023 09:34:30 PM   \n",
       "2               TX10.3.3 - Goal and Task Negotiation  11/29/2023 07:12:16 PM   \n",
       "3  TX10.2.2 - Activity and Resource Planning and ...  11/20/2023 07:07:58 PM   \n",
       "4              TX08.1.1 - Detectors and Focal Planes  11/17/2023 03:57:25 PM   \n",
       "\n",
       "                                         Project URL  \\\n",
       "0  Development of Improved Combustor Scaling Laws...   \n",
       "1  Quesst Community Test Planning & Execution (ht...   \n",
       "2  NASA Platform for Autonomous Systems (https://...   \n",
       "3  Autonomous Systems and Operations (https://tec...   \n",
       "4  Ocean Color Underwater Low Light Advanced Radi...   \n",
       "\n",
       "                                 Project API URL  \n",
       "0  https://techport.nasa.gov/api/projects/117325  \n",
       "1  https://techport.nasa.gov/api/projects/117098  \n",
       "2   https://techport.nasa.gov/api/projects/94884  \n",
       "3   https://techport.nasa.gov/api/projects/32946  \n",
       "4   https://techport.nasa.gov/api/projects/14560  "
      ]
     },
     "execution_count": 6,
     "metadata": {},
     "output_type": "execute_result"
    }
   ],
   "source": [
    "tech_port.head()"
   ]
  },
  {
   "cell_type": "code",
   "execution_count": 7,
   "metadata": {},
   "outputs": [
    {
     "data": {
      "text/html": [
       "<div>\n",
       "<style scoped>\n",
       "    .dataframe tbody tr th:only-of-type {\n",
       "        vertical-align: middle;\n",
       "    }\n",
       "\n",
       "    .dataframe tbody tr th {\n",
       "        vertical-align: top;\n",
       "    }\n",
       "\n",
       "    .dataframe thead th {\n",
       "        text-align: right;\n",
       "    }\n",
       "</style>\n",
       "<table border=\"1\" class=\"dataframe\">\n",
       "  <thead>\n",
       "    <tr style=\"text-align: right;\">\n",
       "      <th></th>\n",
       "      <th>TechPort ID</th>\n",
       "      <th>Project Title</th>\n",
       "      <th>Project Description</th>\n",
       "      <th>Responsible NASA Program</th>\n",
       "      <th>Primary Taxonomy</th>\n",
       "      <th>Project Last Updated</th>\n",
       "      <th>Project URL</th>\n",
       "      <th>Project API URL</th>\n",
       "    </tr>\n",
       "  </thead>\n",
       "  <tbody>\n",
       "    <tr>\n",
       "      <th>15837</th>\n",
       "      <td>7402</td>\n",
       "      <td>Microwave Rain Gauge, Phase II</td>\n",
       "      <td>NaN</td>\n",
       "      <td>Small Business Innovation Research/Small Busin...</td>\n",
       "      <td>TX06.3.5 - Food Production, Processing, and Pr...</td>\n",
       "      <td>10/10/2018 11:15:04 PM</td>\n",
       "      <td>Microwave Rain Gauge, Phase II (https://techpo...</td>\n",
       "      <td>https://techport.nasa.gov/api/projects/7402</td>\n",
       "    </tr>\n",
       "    <tr>\n",
       "      <th>15838</th>\n",
       "      <td>7418</td>\n",
       "      <td>A Reusable and Autonomous Ocean-Atmosphere Sen...</td>\n",
       "      <td>The need to acquire observations on oceanic an...</td>\n",
       "      <td>Small Business Innovation Research/Small Busin...</td>\n",
       "      <td>TX11.4.8 - Edge Computing</td>\n",
       "      <td>10/10/2018 11:15:04 PM</td>\n",
       "      <td>A Reusable and Autonomous Ocean-Atmosphere Sen...</td>\n",
       "      <td>https://techport.nasa.gov/api/projects/7418</td>\n",
       "    </tr>\n",
       "    <tr>\n",
       "      <th>15839</th>\n",
       "      <td>13959</td>\n",
       "      <td>Thin Mirror Shaping Technology for High-Throug...</td>\n",
       "      <td>This proposal is submitted to the NASA Researc...</td>\n",
       "      <td>Astrophysics Research and Analysis</td>\n",
       "      <td>TX08.2.1 - Mirror Systems</td>\n",
       "      <td>10/10/2018 11:15:04 PM</td>\n",
       "      <td>Thin Mirror Shaping Technology for High-Throug...</td>\n",
       "      <td>https://techport.nasa.gov/api/projects/13959</td>\n",
       "    </tr>\n",
       "    <tr>\n",
       "      <th>15840</th>\n",
       "      <td>7616</td>\n",
       "      <td>Bit Transparent Ternary SERDES for Intra-Syste...</td>\n",
       "      <td>NaN</td>\n",
       "      <td>Small Business Innovation Research/Small Busin...</td>\n",
       "      <td>TX06.3.5 - Food Production, Processing, and Pr...</td>\n",
       "      <td>10/10/2018 11:15:04 PM</td>\n",
       "      <td>Bit Transparent Ternary SERDES for Intra-Syste...</td>\n",
       "      <td>https://techport.nasa.gov/api/projects/7616</td>\n",
       "    </tr>\n",
       "    <tr>\n",
       "      <th>15841</th>\n",
       "      <td>94322</td>\n",
       "      <td>Development of a Hard X-ray Photoelectric Pola...</td>\n",
       "      <td>We propose the optimization of the Time Projec...</td>\n",
       "      <td>Astrophysics Research and Analysis</td>\n",
       "      <td>TX08.2.1 - Mirror Systems</td>\n",
       "      <td>10/10/2018 11:15:04 PM</td>\n",
       "      <td>Development of a Hard X-ray Photoelectric Pola...</td>\n",
       "      <td>https://techport.nasa.gov/api/projects/94322</td>\n",
       "    </tr>\n",
       "  </tbody>\n",
       "</table>\n",
       "</div>"
      ],
      "text/plain": [
       "       TechPort ID                                      Project Title  \\\n",
       "15837         7402                     Microwave Rain Gauge, Phase II   \n",
       "15838         7418  A Reusable and Autonomous Ocean-Atmosphere Sen...   \n",
       "15839        13959  Thin Mirror Shaping Technology for High-Throug...   \n",
       "15840         7616  Bit Transparent Ternary SERDES for Intra-Syste...   \n",
       "15841        94322  Development of a Hard X-ray Photoelectric Pola...   \n",
       "\n",
       "                                     Project Description  \\\n",
       "15837                                                NaN   \n",
       "15838  The need to acquire observations on oceanic an...   \n",
       "15839  This proposal is submitted to the NASA Researc...   \n",
       "15840                                                NaN   \n",
       "15841  We propose the optimization of the Time Projec...   \n",
       "\n",
       "                                Responsible NASA Program  \\\n",
       "15837  Small Business Innovation Research/Small Busin...   \n",
       "15838  Small Business Innovation Research/Small Busin...   \n",
       "15839                 Astrophysics Research and Analysis   \n",
       "15840  Small Business Innovation Research/Small Busin...   \n",
       "15841                 Astrophysics Research and Analysis   \n",
       "\n",
       "                                        Primary Taxonomy  \\\n",
       "15837  TX06.3.5 - Food Production, Processing, and Pr...   \n",
       "15838                          TX11.4.8 - Edge Computing   \n",
       "15839                          TX08.2.1 - Mirror Systems   \n",
       "15840  TX06.3.5 - Food Production, Processing, and Pr...   \n",
       "15841                          TX08.2.1 - Mirror Systems   \n",
       "\n",
       "         Project Last Updated  \\\n",
       "15837  10/10/2018 11:15:04 PM   \n",
       "15838  10/10/2018 11:15:04 PM   \n",
       "15839  10/10/2018 11:15:04 PM   \n",
       "15840  10/10/2018 11:15:04 PM   \n",
       "15841  10/10/2018 11:15:04 PM   \n",
       "\n",
       "                                             Project URL  \\\n",
       "15837  Microwave Rain Gauge, Phase II (https://techpo...   \n",
       "15838  A Reusable and Autonomous Ocean-Atmosphere Sen...   \n",
       "15839  Thin Mirror Shaping Technology for High-Throug...   \n",
       "15840  Bit Transparent Ternary SERDES for Intra-Syste...   \n",
       "15841  Development of a Hard X-ray Photoelectric Pola...   \n",
       "\n",
       "                                    Project API URL  \n",
       "15837   https://techport.nasa.gov/api/projects/7402  \n",
       "15838   https://techport.nasa.gov/api/projects/7418  \n",
       "15839  https://techport.nasa.gov/api/projects/13959  \n",
       "15840   https://techport.nasa.gov/api/projects/7616  \n",
       "15841  https://techport.nasa.gov/api/projects/94322  "
      ]
     },
     "execution_count": 7,
     "metadata": {},
     "output_type": "execute_result"
    }
   ],
   "source": [
    "tech_port.tail()"
   ]
  },
  {
   "cell_type": "code",
   "execution_count": 8,
   "metadata": {},
   "outputs": [
    {
     "data": {
      "text/html": [
       "<div>\n",
       "<style scoped>\n",
       "    .dataframe tbody tr th:only-of-type {\n",
       "        vertical-align: middle;\n",
       "    }\n",
       "\n",
       "    .dataframe tbody tr th {\n",
       "        vertical-align: top;\n",
       "    }\n",
       "\n",
       "    .dataframe thead th {\n",
       "        text-align: right;\n",
       "    }\n",
       "</style>\n",
       "<table border=\"1\" class=\"dataframe\">\n",
       "  <thead>\n",
       "    <tr style=\"text-align: right;\">\n",
       "      <th></th>\n",
       "      <th>TechPort ID</th>\n",
       "      <th>Project Title</th>\n",
       "      <th>Project Description</th>\n",
       "      <th>Responsible NASA Program</th>\n",
       "      <th>Primary Taxonomy</th>\n",
       "      <th>Project Last Updated</th>\n",
       "      <th>Project URL</th>\n",
       "      <th>Project API URL</th>\n",
       "    </tr>\n",
       "  </thead>\n",
       "  <tbody>\n",
       "    <tr>\n",
       "      <th>0</th>\n",
       "      <td>True</td>\n",
       "      <td>True</td>\n",
       "      <td>True</td>\n",
       "      <td>True</td>\n",
       "      <td>True</td>\n",
       "      <td>True</td>\n",
       "      <td>True</td>\n",
       "      <td>True</td>\n",
       "    </tr>\n",
       "    <tr>\n",
       "      <th>1</th>\n",
       "      <td>True</td>\n",
       "      <td>True</td>\n",
       "      <td>True</td>\n",
       "      <td>True</td>\n",
       "      <td>True</td>\n",
       "      <td>True</td>\n",
       "      <td>True</td>\n",
       "      <td>True</td>\n",
       "    </tr>\n",
       "    <tr>\n",
       "      <th>2</th>\n",
       "      <td>True</td>\n",
       "      <td>True</td>\n",
       "      <td>True</td>\n",
       "      <td>True</td>\n",
       "      <td>True</td>\n",
       "      <td>True</td>\n",
       "      <td>True</td>\n",
       "      <td>True</td>\n",
       "    </tr>\n",
       "    <tr>\n",
       "      <th>3</th>\n",
       "      <td>True</td>\n",
       "      <td>True</td>\n",
       "      <td>True</td>\n",
       "      <td>True</td>\n",
       "      <td>True</td>\n",
       "      <td>True</td>\n",
       "      <td>True</td>\n",
       "      <td>True</td>\n",
       "    </tr>\n",
       "    <tr>\n",
       "      <th>4</th>\n",
       "      <td>True</td>\n",
       "      <td>True</td>\n",
       "      <td>True</td>\n",
       "      <td>True</td>\n",
       "      <td>True</td>\n",
       "      <td>True</td>\n",
       "      <td>True</td>\n",
       "      <td>True</td>\n",
       "    </tr>\n",
       "    <tr>\n",
       "      <th>...</th>\n",
       "      <td>...</td>\n",
       "      <td>...</td>\n",
       "      <td>...</td>\n",
       "      <td>...</td>\n",
       "      <td>...</td>\n",
       "      <td>...</td>\n",
       "      <td>...</td>\n",
       "      <td>...</td>\n",
       "    </tr>\n",
       "    <tr>\n",
       "      <th>15837</th>\n",
       "      <td>True</td>\n",
       "      <td>True</td>\n",
       "      <td>True</td>\n",
       "      <td>True</td>\n",
       "      <td>True</td>\n",
       "      <td>True</td>\n",
       "      <td>True</td>\n",
       "      <td>True</td>\n",
       "    </tr>\n",
       "    <tr>\n",
       "      <th>15838</th>\n",
       "      <td>True</td>\n",
       "      <td>True</td>\n",
       "      <td>True</td>\n",
       "      <td>True</td>\n",
       "      <td>True</td>\n",
       "      <td>True</td>\n",
       "      <td>True</td>\n",
       "      <td>True</td>\n",
       "    </tr>\n",
       "    <tr>\n",
       "      <th>15839</th>\n",
       "      <td>True</td>\n",
       "      <td>True</td>\n",
       "      <td>True</td>\n",
       "      <td>True</td>\n",
       "      <td>True</td>\n",
       "      <td>True</td>\n",
       "      <td>True</td>\n",
       "      <td>True</td>\n",
       "    </tr>\n",
       "    <tr>\n",
       "      <th>15840</th>\n",
       "      <td>True</td>\n",
       "      <td>True</td>\n",
       "      <td>True</td>\n",
       "      <td>True</td>\n",
       "      <td>True</td>\n",
       "      <td>True</td>\n",
       "      <td>True</td>\n",
       "      <td>True</td>\n",
       "    </tr>\n",
       "    <tr>\n",
       "      <th>15841</th>\n",
       "      <td>True</td>\n",
       "      <td>True</td>\n",
       "      <td>True</td>\n",
       "      <td>True</td>\n",
       "      <td>True</td>\n",
       "      <td>True</td>\n",
       "      <td>True</td>\n",
       "      <td>True</td>\n",
       "    </tr>\n",
       "  </tbody>\n",
       "</table>\n",
       "<p>15842 rows × 8 columns</p>\n",
       "</div>"
      ],
      "text/plain": [
       "       TechPort ID  Project Title  Project Description  \\\n",
       "0             True           True                 True   \n",
       "1             True           True                 True   \n",
       "2             True           True                 True   \n",
       "3             True           True                 True   \n",
       "4             True           True                 True   \n",
       "...            ...            ...                  ...   \n",
       "15837         True           True                 True   \n",
       "15838         True           True                 True   \n",
       "15839         True           True                 True   \n",
       "15840         True           True                 True   \n",
       "15841         True           True                 True   \n",
       "\n",
       "       Responsible NASA Program  Primary Taxonomy  Project Last Updated  \\\n",
       "0                          True              True                  True   \n",
       "1                          True              True                  True   \n",
       "2                          True              True                  True   \n",
       "3                          True              True                  True   \n",
       "4                          True              True                  True   \n",
       "...                         ...               ...                   ...   \n",
       "15837                      True              True                  True   \n",
       "15838                      True              True                  True   \n",
       "15839                      True              True                  True   \n",
       "15840                      True              True                  True   \n",
       "15841                      True              True                  True   \n",
       "\n",
       "       Project URL  Project API URL  \n",
       "0             True             True  \n",
       "1             True             True  \n",
       "2             True             True  \n",
       "3             True             True  \n",
       "4             True             True  \n",
       "...            ...              ...  \n",
       "15837         True             True  \n",
       "15838         True             True  \n",
       "15839         True             True  \n",
       "15840         True             True  \n",
       "15841         True             True  \n",
       "\n",
       "[15842 rows x 8 columns]"
      ]
     },
     "execution_count": 8,
     "metadata": {},
     "output_type": "execute_result"
    }
   ],
   "source": [
    "tech_port.astype(np.bool_)"
   ]
  },
  {
   "cell_type": "code",
   "execution_count": 9,
   "metadata": {},
   "outputs": [
    {
     "data": {
      "text/plain": [
       "TechPort ID                  int64\n",
       "Project Title               object\n",
       "Project Description         object\n",
       "Responsible NASA Program    object\n",
       "Primary Taxonomy            object\n",
       "Project Last Updated        object\n",
       "Project URL                 object\n",
       "Project API URL             object\n",
       "dtype: object"
      ]
     },
     "execution_count": 9,
     "metadata": {},
     "output_type": "execute_result"
    }
   ],
   "source": [
    "tech_port.dtypes"
   ]
  },
  {
   "cell_type": "code",
   "execution_count": 10,
   "metadata": {},
   "outputs": [
    {
     "data": {
      "text/html": [
       "<div>\n",
       "<style scoped>\n",
       "    .dataframe tbody tr th:only-of-type {\n",
       "        vertical-align: middle;\n",
       "    }\n",
       "\n",
       "    .dataframe tbody tr th {\n",
       "        vertical-align: top;\n",
       "    }\n",
       "\n",
       "    .dataframe thead th {\n",
       "        text-align: right;\n",
       "    }\n",
       "</style>\n",
       "<table border=\"1\" class=\"dataframe\">\n",
       "  <thead>\n",
       "    <tr style=\"text-align: right;\">\n",
       "      <th></th>\n",
       "      <th>TechPort ID</th>\n",
       "      <th>Project Title</th>\n",
       "      <th>Project Description</th>\n",
       "      <th>Responsible NASA Program</th>\n",
       "      <th>Primary Taxonomy</th>\n",
       "      <th>Project Last Updated</th>\n",
       "      <th>Project URL</th>\n",
       "      <th>Project API URL</th>\n",
       "    </tr>\n",
       "  </thead>\n",
       "  <tbody>\n",
       "    <tr>\n",
       "      <th>0</th>\n",
       "      <td>117325</td>\n",
       "      <td>Development of Improved Combustor Scaling Laws...</td>\n",
       "      <td>To improve current engine (1X) performance and...</td>\n",
       "      <td>Advanced Air Vehicles</td>\n",
       "      <td>TX01.3.6 - Ramjet/Scramjet</td>\n",
       "      <td>12/04/2023 09:47:04 PM</td>\n",
       "      <td>Development of Improved Combustor Scaling Laws...</td>\n",
       "      <td>https://techport.nasa.gov/api/projects/117325</td>\n",
       "    </tr>\n",
       "    <tr>\n",
       "      <th>1</th>\n",
       "      <td>117098</td>\n",
       "      <td>Quesst Community Test Planning &amp; Execution</td>\n",
       "      <td>Plan and execute sonic boom tests with the X-5...</td>\n",
       "      <td>Advanced Air Vehicles</td>\n",
       "      <td>TX15.1.4 - Aeroacoustics</td>\n",
       "      <td>12/04/2023 09:34:30 PM</td>\n",
       "      <td>Quesst Community Test Planning &amp; Execution (ht...</td>\n",
       "      <td>https://techport.nasa.gov/api/projects/117098</td>\n",
       "    </tr>\n",
       "    <tr>\n",
       "      <th>2</th>\n",
       "      <td>94884</td>\n",
       "      <td>NASA Platform for Autonomous Systems</td>\n",
       "      <td>Autonomous operations are critical for the suc...</td>\n",
       "      <td>Mars Campaign Office</td>\n",
       "      <td>TX10.3.3 - Goal and Task Negotiation</td>\n",
       "      <td>11/29/2023 07:12:16 PM</td>\n",
       "      <td>NASA Platform for Autonomous Systems (https://...</td>\n",
       "      <td>https://techport.nasa.gov/api/projects/94884</td>\n",
       "    </tr>\n",
       "    <tr>\n",
       "      <th>3</th>\n",
       "      <td>32946</td>\n",
       "      <td>Autonomous Systems and Operations</td>\n",
       "      <td>The AES Autonomous Systems and Operations (ASO...</td>\n",
       "      <td>Mars Campaign Office</td>\n",
       "      <td>TX10.2.2 - Activity and Resource Planning and ...</td>\n",
       "      <td>11/20/2023 07:07:58 PM</td>\n",
       "      <td>Autonomous Systems and Operations (https://tec...</td>\n",
       "      <td>https://techport.nasa.gov/api/projects/32946</td>\n",
       "    </tr>\n",
       "    <tr>\n",
       "      <th>4</th>\n",
       "      <td>14560</td>\n",
       "      <td>Ocean Color Underwater Low Light Advanced Radi...</td>\n",
       "      <td>The OCULLAR activity pairs a miniature and rug...</td>\n",
       "      <td>Center Independent Research &amp; Development: GSF...</td>\n",
       "      <td>TX08.1.1 - Detectors and Focal Planes</td>\n",
       "      <td>11/17/2023 03:57:25 PM</td>\n",
       "      <td>Ocean Color Underwater Low Light Advanced Radi...</td>\n",
       "      <td>https://techport.nasa.gov/api/projects/14560</td>\n",
       "    </tr>\n",
       "  </tbody>\n",
       "</table>\n",
       "</div>"
      ],
      "text/plain": [
       "   TechPort ID                                      Project Title  \\\n",
       "0       117325  Development of Improved Combustor Scaling Laws...   \n",
       "1       117098         Quesst Community Test Planning & Execution   \n",
       "2        94884               NASA Platform for Autonomous Systems   \n",
       "3        32946                  Autonomous Systems and Operations   \n",
       "4        14560  Ocean Color Underwater Low Light Advanced Radi...   \n",
       "\n",
       "                                 Project Description  \\\n",
       "0  To improve current engine (1X) performance and...   \n",
       "1  Plan and execute sonic boom tests with the X-5...   \n",
       "2  Autonomous operations are critical for the suc...   \n",
       "3  The AES Autonomous Systems and Operations (ASO...   \n",
       "4  The OCULLAR activity pairs a miniature and rug...   \n",
       "\n",
       "                            Responsible NASA Program  \\\n",
       "0                              Advanced Air Vehicles   \n",
       "1                              Advanced Air Vehicles   \n",
       "2                               Mars Campaign Office   \n",
       "3                               Mars Campaign Office   \n",
       "4  Center Independent Research & Development: GSF...   \n",
       "\n",
       "                                    Primary Taxonomy    Project Last Updated  \\\n",
       "0                         TX01.3.6 - Ramjet/Scramjet  12/04/2023 09:47:04 PM   \n",
       "1                           TX15.1.4 - Aeroacoustics  12/04/2023 09:34:30 PM   \n",
       "2               TX10.3.3 - Goal and Task Negotiation  11/29/2023 07:12:16 PM   \n",
       "3  TX10.2.2 - Activity and Resource Planning and ...  11/20/2023 07:07:58 PM   \n",
       "4              TX08.1.1 - Detectors and Focal Planes  11/17/2023 03:57:25 PM   \n",
       "\n",
       "                                         Project URL  \\\n",
       "0  Development of Improved Combustor Scaling Laws...   \n",
       "1  Quesst Community Test Planning & Execution (ht...   \n",
       "2  NASA Platform for Autonomous Systems (https://...   \n",
       "3  Autonomous Systems and Operations (https://tec...   \n",
       "4  Ocean Color Underwater Low Light Advanced Radi...   \n",
       "\n",
       "                                 Project API URL  \n",
       "0  https://techport.nasa.gov/api/projects/117325  \n",
       "1  https://techport.nasa.gov/api/projects/117098  \n",
       "2   https://techport.nasa.gov/api/projects/94884  \n",
       "3   https://techport.nasa.gov/api/projects/32946  \n",
       "4   https://techport.nasa.gov/api/projects/14560  "
      ]
     },
     "execution_count": 10,
     "metadata": {},
     "output_type": "execute_result"
    }
   ],
   "source": [
    "tech_port.head()"
   ]
  },
  {
   "cell_type": "code",
   "execution_count": 85,
   "metadata": {},
   "outputs": [],
   "source": [
    "id = []\n",
    "id.append(tech_port['TechPort ID'])"
   ]
  },
  {
   "cell_type": "code",
   "execution_count": 86,
   "metadata": {},
   "outputs": [
    {
     "data": {
      "text/plain": [
       "[0        117325\n",
       " 1        117098\n",
       " 2         94884\n",
       " 3         32946\n",
       " 4         14560\n",
       "           ...  \n",
       " 15837      7402\n",
       " 15838      7418\n",
       " 15839     13959\n",
       " 15840      7616\n",
       " 15841     94322\n",
       " Name: TechPort ID, Length: 15842, dtype: int64]"
      ]
     },
     "execution_count": 86,
     "metadata": {},
     "output_type": "execute_result"
    }
   ],
   "source": [
    "id"
   ]
  },
  {
   "cell_type": "code",
   "execution_count": 34,
   "metadata": {},
   "outputs": [
    {
     "data": {
      "text/plain": [
       "array([[117325, 117098,  94884, ...,  13959,   7616,  94322]])"
      ]
     },
     "execution_count": 34,
     "metadata": {},
     "output_type": "execute_result"
    }
   ],
   "source": [
    "arr = np.array(id)\n",
    "arr"
   ]
  },
  {
   "cell_type": "code",
   "execution_count": 38,
   "metadata": {},
   "outputs": [
    {
     "data": {
      "text/plain": [
       "(1, 15842)"
      ]
     },
     "execution_count": 38,
     "metadata": {},
     "output_type": "execute_result"
    }
   ],
   "source": [
    "arr.shape"
   ]
  },
  {
   "cell_type": "code",
   "execution_count": 41,
   "metadata": {},
   "outputs": [
    {
     "data": {
      "text/plain": [
       "array([[117325, 117098,  94884, ..., 103153,  93430,   9119],\n",
       "       [  9312,   9374,   9578, ...,  13959,   7616,  94322]])"
      ]
     },
     "execution_count": 41,
     "metadata": {},
     "output_type": "execute_result"
    }
   ],
   "source": [
    "arr.reshape(2, 7921)"
   ]
  },
  {
   "cell_type": "code",
   "execution_count": 42,
   "metadata": {},
   "outputs": [
    {
     "data": {
      "text/plain": [
       "array([[117325, 117098,  94884, ...,  13959,   7616,  94322]])"
      ]
     },
     "execution_count": 42,
     "metadata": {},
     "output_type": "execute_result"
    }
   ],
   "source": [
    "arr"
   ]
  },
  {
   "cell_type": "code",
   "execution_count": 43,
   "metadata": {},
   "outputs": [
    {
     "data": {
      "text/plain": [
       "array([[117325, 117098,  94884, ..., 103153,  93430,   9119],\n",
       "       [  9312,   9374,   9578, ...,  13959,   7616,  94322]])"
      ]
     },
     "execution_count": 43,
     "metadata": {},
     "output_type": "execute_result"
    }
   ],
   "source": [
    "np.reshape(arr, (2,7921), 'C')"
   ]
  },
  {
   "cell_type": "code",
   "execution_count": 44,
   "metadata": {},
   "outputs": [
    {
     "data": {
      "text/plain": [
       "array([[117325, 117098,  94884, ..., 103153,  93430,   9119],\n",
       "       [  9312,   9374,   9578, ...,  13959,   7616,  94322]])"
      ]
     },
     "execution_count": 44,
     "metadata": {},
     "output_type": "execute_result"
    }
   ],
   "source": [
    "np.reshape(arr, (2,7921), 'A')"
   ]
  },
  {
   "cell_type": "code",
   "execution_count": 45,
   "metadata": {},
   "outputs": [
    {
     "data": {
      "text/plain": [
       "array([[117325,  94884,  14560, ...,   7800,   7418,   7616],\n",
       "       [117098,  32946,  11812, ...,   7402,  13959,  94322]])"
      ]
     },
     "execution_count": 45,
     "metadata": {},
     "output_type": "execute_result"
    }
   ],
   "source": [
    "np.reshape(arr, (2,7921), 'F')"
   ]
  },
  {
   "cell_type": "code",
   "execution_count": 47,
   "metadata": {},
   "outputs": [
    {
     "data": {
      "text/plain": [
       "array([[117325, 117098,  94884, ...,  13959,   7616,  94322]])"
      ]
     },
     "execution_count": 47,
     "metadata": {},
     "output_type": "execute_result"
    }
   ],
   "source": [
    "np.reshape(arr, (1, 15842), 'F')"
   ]
  },
  {
   "cell_type": "code",
   "execution_count": 48,
   "metadata": {},
   "outputs": [
    {
     "data": {
      "text/plain": [
       "array([[117325, 117098,  94884, ...,  13959,   7616,  94322]])"
      ]
     },
     "execution_count": 48,
     "metadata": {},
     "output_type": "execute_result"
    }
   ],
   "source": [
    "np.reshape(arr, (1, 15842), 'C')"
   ]
  },
  {
   "cell_type": "code",
   "execution_count": 49,
   "metadata": {},
   "outputs": [
    {
     "data": {
      "text/plain": [
       "2"
      ]
     },
     "execution_count": 49,
     "metadata": {},
     "output_type": "execute_result"
    }
   ],
   "source": [
    "arr.ndim"
   ]
  },
  {
   "cell_type": "code",
   "execution_count": 50,
   "metadata": {},
   "outputs": [
    {
     "data": {
      "text/plain": [
       "array([[117325, 117098,  94884, ...,  13959,   7616,  94322]])"
      ]
     },
     "execution_count": 50,
     "metadata": {},
     "output_type": "execute_result"
    }
   ],
   "source": [
    "arr"
   ]
  },
  {
   "cell_type": "code",
   "execution_count": 51,
   "metadata": {},
   "outputs": [
    {
     "data": {
      "text/plain": [
       "146628"
      ]
     },
     "execution_count": 51,
     "metadata": {},
     "output_type": "execute_result"
    }
   ],
   "source": [
    "arr.max()"
   ]
  },
  {
   "cell_type": "code",
   "execution_count": 54,
   "metadata": {},
   "outputs": [
    {
     "data": {
      "text/plain": [
       "array([[[ 204638,   95813, 1215371, ..., 1027443,  128276, 1063702],\n",
       "        [ 113504, 1235879,  953511, ...,  929108,  734242, 1104125]]])"
      ]
     },
     "execution_count": 54,
     "metadata": {},
     "output_type": "execute_result"
    }
   ],
   "source": [
    "other = np.random.randint(1, 1500000, (1, 2,7921))\n",
    "other"
   ]
  },
  {
   "cell_type": "code",
   "execution_count": 55,
   "metadata": {},
   "outputs": [
    {
     "data": {
      "text/plain": [
       "(1, 2, 7921)"
      ]
     },
     "execution_count": 55,
     "metadata": {},
     "output_type": "execute_result"
    }
   ],
   "source": [
    "other.shape"
   ]
  },
  {
   "cell_type": "code",
   "execution_count": 56,
   "metadata": {},
   "outputs": [
    {
     "data": {
      "text/plain": [
       "3"
      ]
     },
     "execution_count": 56,
     "metadata": {},
     "output_type": "execute_result"
    }
   ],
   "source": [
    "other.ndim"
   ]
  },
  {
   "cell_type": "code",
   "execution_count": 57,
   "metadata": {},
   "outputs": [
    {
     "data": {
      "text/plain": [
       "array([[[117325, 117098,  94884, ..., 103153,  93430,   9119]],\n",
       "\n",
       "       [[  9312,   9374,   9578, ...,  13959,   7616,  94322]]])"
      ]
     },
     "execution_count": 57,
     "metadata": {},
     "output_type": "execute_result"
    }
   ],
   "source": [
    "arr.reshape(2,1,7921)"
   ]
  },
  {
   "cell_type": "code",
   "execution_count": 58,
   "metadata": {},
   "outputs": [
    {
     "data": {
      "text/plain": [
       "2"
      ]
     },
     "execution_count": 58,
     "metadata": {},
     "output_type": "execute_result"
    }
   ],
   "source": [
    "arr.ndim"
   ]
  },
  {
   "cell_type": "code",
   "execution_count": 59,
   "metadata": {},
   "outputs": [
    {
     "data": {
      "text/html": [
       "<div>\n",
       "<style scoped>\n",
       "    .dataframe tbody tr th:only-of-type {\n",
       "        vertical-align: middle;\n",
       "    }\n",
       "\n",
       "    .dataframe tbody tr th {\n",
       "        vertical-align: top;\n",
       "    }\n",
       "\n",
       "    .dataframe thead th {\n",
       "        text-align: right;\n",
       "    }\n",
       "</style>\n",
       "<table border=\"1\" class=\"dataframe\">\n",
       "  <thead>\n",
       "    <tr style=\"text-align: right;\">\n",
       "      <th></th>\n",
       "      <th>TechPort ID</th>\n",
       "      <th>Project Title</th>\n",
       "      <th>Project Description</th>\n",
       "      <th>Responsible NASA Program</th>\n",
       "      <th>Primary Taxonomy</th>\n",
       "      <th>Project Last Updated</th>\n",
       "      <th>Project URL</th>\n",
       "      <th>Project API URL</th>\n",
       "    </tr>\n",
       "  </thead>\n",
       "  <tbody>\n",
       "    <tr>\n",
       "      <th>0</th>\n",
       "      <td>117325</td>\n",
       "      <td>Development of Improved Combustor Scaling Laws...</td>\n",
       "      <td>To improve current engine (1X) performance and...</td>\n",
       "      <td>Advanced Air Vehicles</td>\n",
       "      <td>TX01.3.6 - Ramjet/Scramjet</td>\n",
       "      <td>12/04/2023 09:47:04 PM</td>\n",
       "      <td>Development of Improved Combustor Scaling Laws...</td>\n",
       "      <td>https://techport.nasa.gov/api/projects/117325</td>\n",
       "    </tr>\n",
       "    <tr>\n",
       "      <th>1</th>\n",
       "      <td>117098</td>\n",
       "      <td>Quesst Community Test Planning &amp; Execution</td>\n",
       "      <td>Plan and execute sonic boom tests with the X-5...</td>\n",
       "      <td>Advanced Air Vehicles</td>\n",
       "      <td>TX15.1.4 - Aeroacoustics</td>\n",
       "      <td>12/04/2023 09:34:30 PM</td>\n",
       "      <td>Quesst Community Test Planning &amp; Execution (ht...</td>\n",
       "      <td>https://techport.nasa.gov/api/projects/117098</td>\n",
       "    </tr>\n",
       "    <tr>\n",
       "      <th>2</th>\n",
       "      <td>94884</td>\n",
       "      <td>NASA Platform for Autonomous Systems</td>\n",
       "      <td>Autonomous operations are critical for the suc...</td>\n",
       "      <td>Mars Campaign Office</td>\n",
       "      <td>TX10.3.3 - Goal and Task Negotiation</td>\n",
       "      <td>11/29/2023 07:12:16 PM</td>\n",
       "      <td>NASA Platform for Autonomous Systems (https://...</td>\n",
       "      <td>https://techport.nasa.gov/api/projects/94884</td>\n",
       "    </tr>\n",
       "    <tr>\n",
       "      <th>3</th>\n",
       "      <td>32946</td>\n",
       "      <td>Autonomous Systems and Operations</td>\n",
       "      <td>The AES Autonomous Systems and Operations (ASO...</td>\n",
       "      <td>Mars Campaign Office</td>\n",
       "      <td>TX10.2.2 - Activity and Resource Planning and ...</td>\n",
       "      <td>11/20/2023 07:07:58 PM</td>\n",
       "      <td>Autonomous Systems and Operations (https://tec...</td>\n",
       "      <td>https://techport.nasa.gov/api/projects/32946</td>\n",
       "    </tr>\n",
       "    <tr>\n",
       "      <th>4</th>\n",
       "      <td>14560</td>\n",
       "      <td>Ocean Color Underwater Low Light Advanced Radi...</td>\n",
       "      <td>The OCULLAR activity pairs a miniature and rug...</td>\n",
       "      <td>Center Independent Research &amp; Development: GSF...</td>\n",
       "      <td>TX08.1.1 - Detectors and Focal Planes</td>\n",
       "      <td>11/17/2023 03:57:25 PM</td>\n",
       "      <td>Ocean Color Underwater Low Light Advanced Radi...</td>\n",
       "      <td>https://techport.nasa.gov/api/projects/14560</td>\n",
       "    </tr>\n",
       "  </tbody>\n",
       "</table>\n",
       "</div>"
      ],
      "text/plain": [
       "   TechPort ID                                      Project Title  \\\n",
       "0       117325  Development of Improved Combustor Scaling Laws...   \n",
       "1       117098         Quesst Community Test Planning & Execution   \n",
       "2        94884               NASA Platform for Autonomous Systems   \n",
       "3        32946                  Autonomous Systems and Operations   \n",
       "4        14560  Ocean Color Underwater Low Light Advanced Radi...   \n",
       "\n",
       "                                 Project Description  \\\n",
       "0  To improve current engine (1X) performance and...   \n",
       "1  Plan and execute sonic boom tests with the X-5...   \n",
       "2  Autonomous operations are critical for the suc...   \n",
       "3  The AES Autonomous Systems and Operations (ASO...   \n",
       "4  The OCULLAR activity pairs a miniature and rug...   \n",
       "\n",
       "                            Responsible NASA Program  \\\n",
       "0                              Advanced Air Vehicles   \n",
       "1                              Advanced Air Vehicles   \n",
       "2                               Mars Campaign Office   \n",
       "3                               Mars Campaign Office   \n",
       "4  Center Independent Research & Development: GSF...   \n",
       "\n",
       "                                    Primary Taxonomy    Project Last Updated  \\\n",
       "0                         TX01.3.6 - Ramjet/Scramjet  12/04/2023 09:47:04 PM   \n",
       "1                           TX15.1.4 - Aeroacoustics  12/04/2023 09:34:30 PM   \n",
       "2               TX10.3.3 - Goal and Task Negotiation  11/29/2023 07:12:16 PM   \n",
       "3  TX10.2.2 - Activity and Resource Planning and ...  11/20/2023 07:07:58 PM   \n",
       "4              TX08.1.1 - Detectors and Focal Planes  11/17/2023 03:57:25 PM   \n",
       "\n",
       "                                         Project URL  \\\n",
       "0  Development of Improved Combustor Scaling Laws...   \n",
       "1  Quesst Community Test Planning & Execution (ht...   \n",
       "2  NASA Platform for Autonomous Systems (https://...   \n",
       "3  Autonomous Systems and Operations (https://tec...   \n",
       "4  Ocean Color Underwater Low Light Advanced Radi...   \n",
       "\n",
       "                                 Project API URL  \n",
       "0  https://techport.nasa.gov/api/projects/117325  \n",
       "1  https://techport.nasa.gov/api/projects/117098  \n",
       "2   https://techport.nasa.gov/api/projects/94884  \n",
       "3   https://techport.nasa.gov/api/projects/32946  \n",
       "4   https://techport.nasa.gov/api/projects/14560  "
      ]
     },
     "execution_count": 59,
     "metadata": {},
     "output_type": "execute_result"
    }
   ],
   "source": [
    "tech_port.head()"
   ]
  },
  {
   "cell_type": "code",
   "execution_count": 65,
   "metadata": {},
   "outputs": [
    {
     "data": {
      "text/plain": [
       "0    0        117325\n",
       "1        117098\n",
       "2         9488...\n",
       "dtype: object"
      ]
     },
     "execution_count": 65,
     "metadata": {},
     "output_type": "execute_result"
    }
   ],
   "source": [
    "serie = pd.Series(id)\n",
    "serie"
   ]
  },
  {
   "cell_type": "code",
   "execution_count": 66,
   "metadata": {},
   "outputs": [
    {
     "data": {
      "text/plain": [
       "1               NASA\n",
       "2             SpaceX\n",
       "3        Blue Origin\n",
       "4    Virgin Galactic\n",
       "dtype: object"
      ]
     },
     "execution_count": 66,
     "metadata": {},
     "output_type": "execute_result"
    }
   ],
   "source": [
    "example = pd.Series(['NASA', 'SpaceX', 'Blue Origin', 'Virgin Galactic'], index=[1, 2, 3, 4,])\n",
    "example"
   ]
  },
  {
   "cell_type": "code",
   "execution_count": 75,
   "metadata": {},
   "outputs": [
    {
     "data": {
      "text/plain": [
       "0        117325\n",
       "1        117098\n",
       "2         94884\n",
       "3         32946\n",
       "4         14560\n",
       "          ...  \n",
       "15837      7402\n",
       "15838      7418\n",
       "15839     13959\n",
       "15840      7616\n",
       "15841     94322\n",
       "Name: TechPort ID, Length: 15842, dtype: int64"
      ]
     },
     "execution_count": 75,
     "metadata": {},
     "output_type": "execute_result"
    }
   ],
   "source": [
    "tech_port['TechPort ID']"
   ]
  },
  {
   "cell_type": "code",
   "execution_count": 74,
   "metadata": {},
   "outputs": [
    {
     "data": {
      "text/plain": [
       "0        Development of Improved Combustor Scaling Laws...\n",
       "1               Quesst Community Test Planning & Execution\n",
       "2                     NASA Platform for Autonomous Systems\n",
       "3                        Autonomous Systems and Operations\n",
       "4        Ocean Color Underwater Low Light Advanced Radi...\n",
       "                               ...                        \n",
       "15837                       Microwave Rain Gauge, Phase II\n",
       "15838    A Reusable and Autonomous Ocean-Atmosphere Sen...\n",
       "15839    Thin Mirror Shaping Technology for High-Throug...\n",
       "15840    Bit Transparent Ternary SERDES for Intra-Syste...\n",
       "15841    Development of a Hard X-ray Photoelectric Pola...\n",
       "Name: Project Title, Length: 15842, dtype: object"
      ]
     },
     "execution_count": 74,
     "metadata": {},
     "output_type": "execute_result"
    }
   ],
   "source": [
    "tech_port['Project Title']"
   ]
  },
  {
   "cell_type": "code",
   "execution_count": 88,
   "metadata": {},
   "outputs": [
    {
     "data": {
      "text/plain": [
       "[0        Development of Improved Combustor Scaling Laws...\n",
       " 1               Quesst Community Test Planning & Execution\n",
       " 2                     NASA Platform for Autonomous Systems\n",
       " 3                        Autonomous Systems and Operations\n",
       " 4        Ocean Color Underwater Low Light Advanced Radi...\n",
       "                                ...                        \n",
       " 15837                       Microwave Rain Gauge, Phase II\n",
       " 15838    A Reusable and Autonomous Ocean-Atmosphere Sen...\n",
       " 15839    Thin Mirror Shaping Technology for High-Throug...\n",
       " 15840    Bit Transparent Ternary SERDES for Intra-Syste...\n",
       " 15841    Development of a Hard X-ray Photoelectric Pola...\n",
       " Name: Project Title, Length: 15842, dtype: object]"
      ]
     },
     "execution_count": 88,
     "metadata": {},
     "output_type": "execute_result"
    }
   ],
   "source": [
    "info = []\n",
    "info.append(tech_port['Project Title'])\n",
    "info"
   ]
  },
  {
   "cell_type": "code",
   "execution_count": 90,
   "metadata": {},
   "outputs": [
    {
     "data": {
      "text/plain": [
       "[0                                    Advanced Air Vehicles\n",
       " 1                                    Advanced Air Vehicles\n",
       " 2                                     Mars Campaign Office\n",
       " 3                                     Mars Campaign Office\n",
       " 4        Center Independent Research & Development: GSF...\n",
       "                                ...                        \n",
       " 15837    Small Business Innovation Research/Small Busin...\n",
       " 15838    Small Business Innovation Research/Small Busin...\n",
       " 15839                   Astrophysics Research and Analysis\n",
       " 15840    Small Business Innovation Research/Small Busin...\n",
       " 15841                   Astrophysics Research and Analysis\n",
       " Name: Responsible NASA Program, Length: 15842, dtype: object]"
      ]
     },
     "execution_count": 90,
     "metadata": {},
     "output_type": "execute_result"
    }
   ],
   "source": [
    "program = []\n",
    "program.append(tech_port['Responsible NASA Program'])\n",
    "program"
   ]
  },
  {
   "cell_type": "code",
   "execution_count": 91,
   "metadata": {},
   "outputs": [
    {
     "ename": "TypeError",
     "evalue": "unhashable type: 'Series'",
     "output_type": "error",
     "traceback": [
      "\u001b[0;31m---------------------------------------------------------------------------\u001b[0m",
      "\u001b[0;31mTypeError\u001b[0m                                 Traceback (most recent call last)",
      "\u001b[1;32m/Users/juanmanrique/Documents/numpy_pandas/proyecto/main.ipynb Cell 34\u001b[0m line \u001b[0;36m1\n\u001b[0;32m----> <a href='vscode-notebook-cell:/Users/juanmanrique/Documents/numpy_pandas/proyecto/main.ipynb#X50sZmlsZQ%3D%3D?line=0'>1</a>\u001b[0m \u001b[39mdict\u001b[39m \u001b[39m=\u001b[39m {info : program \u001b[39mfor\u001b[39;00m (info, program) \u001b[39min\u001b[39;00m \u001b[39mzip\u001b[39m(info, program)}\n\u001b[1;32m      <a href='vscode-notebook-cell:/Users/juanmanrique/Documents/numpy_pandas/proyecto/main.ipynb#X50sZmlsZQ%3D%3D?line=1'>2</a>\u001b[0m \u001b[39mdict\u001b[39m\n",
      "\u001b[0;31mTypeError\u001b[0m: unhashable type: 'Series'"
     ]
    }
   ],
   "source": [
    "dict = {info : program for (info, program) in zip(info, program)}\n",
    "dict"
   ]
  }
 ],
 "metadata": {
  "kernelspec": {
   "display_name": "py",
   "language": "python",
   "name": "python3"
  },
  "language_info": {
   "codemirror_mode": {
    "name": "ipython",
    "version": 3
   },
   "file_extension": ".py",
   "mimetype": "text/x-python",
   "name": "python",
   "nbconvert_exporter": "python",
   "pygments_lexer": "ipython3",
   "version": "3.12.0"
  }
 },
 "nbformat": 4,
 "nbformat_minor": 2
}
